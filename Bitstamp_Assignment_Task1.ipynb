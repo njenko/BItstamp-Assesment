{
 "cells": [
  {
   "cell_type": "markdown",
   "metadata": {},
   "source": [
    "# Bitstamp Assesment Test\n",
    "By Nejc Jenko"
   ]
  },
  {
   "cell_type": "markdown",
   "metadata": {},
   "source": [
    "## Task 1: Where are my assets?\n",
    "\n",
    "Welcome to crypto! The Product team is seeking insights into the performance of our lending product. Your mission is\n",
    "to:\n",
    "\n",
    "1. Clean (if needed) and enrich the attached data (task_1_earn.csv) – end goal is having clean table which can be\n",
    "easily used (without any manipulation) for any kind of analytics. The presented data includes all completed lending\n",
    "withdrawals (when a user makes a request to stop lending). Add yearweek and yearmonth columns and any other\n",
    "that will be useful to end users.\n",
    "Definitions:\n",
    "    - **User_Id** is the id of user\n",
    "    - **Id** is the identifier of the withdrawal request\n",
    "    - **Requested_at** means when the user made a request to unlend\n",
    "    - **Finished_at** means when the lending provider completed the lending and user got the funds\n",
    "\n",
    "2. Prepare an analysis of the lending product with the data you have so the product team will be able to identify if we\n",
    "have any issues with our lending provider. Include numbers and graphs and don't forget to write key findings.\n",
    "    - Identify key trends, patterns, and potential issues with the lending provider.\n",
    "\n",
    "3. Based on your analysis:\n",
    "    - Identify opportunities to improve the performance and reliability of our lending provider.\n",
    "    - Suggest actionable recommendations for the Product team to address these issues.\n"
   ]
  },
  {
   "cell_type": "code",
   "execution_count": null,
   "metadata": {},
   "outputs": [],
   "source": [
    "import pandas as pd\n",
    "import numpy as np\n",
    "import matplotlib.pyplot as plt\n",
    "import seaborn as sns\n",
    "from datetime import datetime\n",
    "\n",
    "sns.set_theme(style=\"whitegrid\")\n"
   ]
  },
  {
   "cell_type": "code",
   "execution_count": 2,
   "metadata": {},
   "outputs": [
    {
     "name": "stdout",
     "output_type": "stream",
     "text": [
      "Data loaded successfully!\n"
     ]
    },
    {
     "data": {
      "text/html": [
       "<div>\n",
       "<style scoped>\n",
       "    .dataframe tbody tr th:only-of-type {\n",
       "        vertical-align: middle;\n",
       "    }\n",
       "\n",
       "    .dataframe tbody tr th {\n",
       "        vertical-align: top;\n",
       "    }\n",
       "\n",
       "    .dataframe thead th {\n",
       "        text-align: right;\n",
       "    }\n",
       "</style>\n",
       "<table border=\"1\" class=\"dataframe\">\n",
       "  <thead>\n",
       "    <tr style=\"text-align: right;\">\n",
       "      <th></th>\n",
       "      <th>currency</th>\n",
       "      <th>user_id</th>\n",
       "      <th>id</th>\n",
       "      <th>amount_native</th>\n",
       "      <th>amount_usd</th>\n",
       "      <th>requested_at</th>\n",
       "      <th>finished_at</th>\n",
       "    </tr>\n",
       "  </thead>\n",
       "  <tbody>\n",
       "    <tr>\n",
       "      <th>0</th>\n",
       "      <td>BTC</td>\n",
       "      <td>44017161</td>\n",
       "      <td>117200</td>\n",
       "      <td>17.449950</td>\n",
       "      <td>1234.825630</td>\n",
       "      <td>2020-11-24 22:59:35</td>\n",
       "      <td>2020-01-25 14:00:02</td>\n",
       "    </tr>\n",
       "    <tr>\n",
       "      <th>1</th>\n",
       "      <td>MATIC</td>\n",
       "      <td>46740482</td>\n",
       "      <td>117197</td>\n",
       "      <td>17.450786</td>\n",
       "      <td>546.674743</td>\n",
       "      <td>2020-01-24 22:33:10</td>\n",
       "      <td>2020-01-25 02:00:20</td>\n",
       "    </tr>\n",
       "    <tr>\n",
       "      <th>2</th>\n",
       "      <td>PEPE</td>\n",
       "      <td>46489105</td>\n",
       "      <td>117194</td>\n",
       "      <td>17.446612</td>\n",
       "      <td>556.810541</td>\n",
       "      <td>2020-01-24 22:12:18</td>\n",
       "      <td>2020-01-25 02:00:19</td>\n",
       "    </tr>\n",
       "    <tr>\n",
       "      <th>3</th>\n",
       "      <td>PEPE</td>\n",
       "      <td>46117080</td>\n",
       "      <td>117193</td>\n",
       "      <td>17.446693</td>\n",
       "      <td>1045.785866</td>\n",
       "      <td>2020-01-24 22:03:20</td>\n",
       "      <td>2020-01-25 02:00:19</td>\n",
       "    </tr>\n",
       "    <tr>\n",
       "      <th>4</th>\n",
       "      <td>AVAX</td>\n",
       "      <td>47626266</td>\n",
       "      <td>117191</td>\n",
       "      <td>17.454170</td>\n",
       "      <td>653.661058</td>\n",
       "      <td>2020-01-24 22:01:30</td>\n",
       "      <td>2020-01-25 02:00:41</td>\n",
       "    </tr>\n",
       "  </tbody>\n",
       "</table>\n",
       "</div>"
      ],
      "text/plain": [
       "  currency   user_id      id  amount_native   amount_usd         requested_at  \\\n",
       "0      BTC  44017161  117200      17.449950  1234.825630  2020-11-24 22:59:35   \n",
       "1    MATIC  46740482  117197      17.450786   546.674743  2020-01-24 22:33:10   \n",
       "2     PEPE  46489105  117194      17.446612   556.810541  2020-01-24 22:12:18   \n",
       "3     PEPE  46117080  117193      17.446693  1045.785866  2020-01-24 22:03:20   \n",
       "4     AVAX  47626266  117191      17.454170   653.661058  2020-01-24 22:01:30   \n",
       "\n",
       "           finished_at  \n",
       "0  2020-01-25 14:00:02  \n",
       "1  2020-01-25 02:00:20  \n",
       "2  2020-01-25 02:00:19  \n",
       "3  2020-01-25 02:00:19  \n",
       "4  2020-01-25 02:00:41  "
      ]
     },
     "execution_count": 2,
     "metadata": {},
     "output_type": "execute_result"
    }
   ],
   "source": [
    "# Load the CSV file into a DataFrame\n",
    "file_path_1 = 'task_1_earn.csv' \n",
    "\n",
    "try:\n",
    "    df_1 = pd.read_csv(file_path_1)\n",
    "    print(\"Data loaded successfully!\")\n",
    "except FileNotFoundError:\n",
    "    print(f\"File not found at {file_path_1}. Please check the path.\")\n",
    "\n",
    "# Initial data exploration\n",
    "df_1.head()\n"
   ]
  }
 ],
 "metadata": {
  "kernelspec": {
   "display_name": "base",
   "language": "python",
   "name": "python3"
  },
  "language_info": {
   "codemirror_mode": {
    "name": "ipython",
    "version": 3
   },
   "file_extension": ".py",
   "mimetype": "text/x-python",
   "name": "python",
   "nbconvert_exporter": "python",
   "pygments_lexer": "ipython3",
   "version": "3.9.18"
  }
 },
 "nbformat": 4,
 "nbformat_minor": 2
}
